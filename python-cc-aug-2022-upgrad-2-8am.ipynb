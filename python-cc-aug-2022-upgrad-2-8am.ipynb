{
  "nbformat": 4,
  "nbformat_minor": 0,
  "metadata": {
    "colab": {
      "name": "Python CC Aug 2022 Upgrad - 2 8am",
      "provenance": [],
      "authorship_tag": "ABX9TyO6z4+Gw2r/CpheN8atbwzy",
      "include_colab_link": true
    },
    "kernelspec": {
      "name": "python3",
      "display_name": "Python 3"
    },
    "language_info": {
      "name": "python"
    }
  },
  "cells": [
    {
      "cell_type": "markdown",
      "metadata": {
        "id": "view-in-github",
        "colab_type": "text"
      },
      "source": [
        "<a href=\"https://colab.research.google.com/gist/singhsidhukuldeep/823728130fa23ca558a22cc7c4336233/python-cc-aug-2022-upgrad-2-8am.ipynb\" target=\"_parent\"><img src=\"https://colab.research.google.com/assets/colab-badge.svg\" alt=\"Open In Colab\"/></a>"
      ]
    },
    {
      "cell_type": "code",
      "execution_count": 1,
      "metadata": {
        "colab": {
          "base_uri": "https://localhost:8080/"
        },
        "id": "WzDZdh1nS3v1",
        "outputId": "46bf6413-6bdc-4a98-e225-f74d2bff682a"
      },
      "outputs": [
        {
          "output_type": "stream",
          "name": "stdout",
          "text": [
            "hi\n"
          ]
        }
      ],
      "source": [
        "print('hi')"
      ]
    },
    {
      "cell_type": "code",
      "source": [
        "print('hi this is me, Python')"
      ],
      "metadata": {
        "colab": {
          "base_uri": "https://localhost:8080/"
        },
        "id": "W0Vl4_ZhWdUh",
        "outputId": "f226489e-5f16-4a3b-b7a1-83dab5c89f39"
      },
      "execution_count": 2,
      "outputs": [
        {
          "output_type": "stream",
          "name": "stdout",
          "text": [
            "hi this is me, Python\n"
          ]
        }
      ]
    },
    {
      "cell_type": "code",
      "source": [
        "print(\"this is using double quotes\")\n",
        "print(' this is using single quotes')\n",
        "print('using shift+enter to run')"
      ],
      "metadata": {
        "colab": {
          "base_uri": "https://localhost:8080/"
        },
        "id": "OGcU5Q3OWijE",
        "outputId": "2d480ffd-9e09-4902-c4c3-48639ff491ed"
      },
      "execution_count": 4,
      "outputs": [
        {
          "output_type": "stream",
          "name": "stdout",
          "text": [
            "this is using double quotes\n",
            " this is using single quotes\n",
            "using shift+enter to run\n"
          ]
        }
      ]
    },
    {
      "cell_type": "code",
      "source": [
        "print('this will run')\n",
        "# print(\"this will not run')\n",
        "print('python comments start with #')\n",
        "print('python comments are ignored by python')\n",
        "# python comments are used to document code\n",
        "# you can have as many comments as you want"
      ],
      "metadata": {
        "colab": {
          "base_uri": "https://localhost:8080/"
        },
        "id": "XgSrhXaYWu4a",
        "outputId": "1dc0ebd8-de0f-405b-934c-1658bf80218c"
      },
      "execution_count": 6,
      "outputs": [
        {
          "output_type": "stream",
          "name": "stdout",
          "text": [
            "this will run\n",
            "python comments start with #\n",
            "python comments are ignored by python\n"
          ]
        }
      ]
    },
    {
      "cell_type": "code",
      "source": [
        "print('this thing is on one line')\n",
        "print(\"this thing is on another one line\")\n",
        "print(\"\"\"this\n",
        "is\n",
        "on\n",
        "multiple lines\"\"\")\n",
        "print('''this\n",
        "is\n",
        "on\n",
        "multiple \n",
        "lines\n",
        "that\n",
        "are way''')"
      ],
      "metadata": {
        "colab": {
          "base_uri": "https://localhost:8080/"
        },
        "id": "02E4MPEDXi4D",
        "outputId": "c1aa5e33-8484-49d8-87f4-66ea98f52d2b"
      },
      "execution_count": 9,
      "outputs": [
        {
          "output_type": "stream",
          "name": "stdout",
          "text": [
            "this thing is on one line\n",
            "this thing is on another one line\n",
            "this\n",
            "is\n",
            "on\n",
            "multiple lines\n",
            "this\n",
            "is\n",
            "on\n",
            "multiple \n",
            "lines\n",
            "that\n",
            "are way\n"
          ]
        }
      ]
    },
    {
      "cell_type": "code",
      "source": [
        "# keywords\n",
        "help('keywords')"
      ],
      "metadata": {
        "colab": {
          "base_uri": "https://localhost:8080/"
        },
        "id": "XQ__sEZcXt77",
        "outputId": "c09ffef9-dfa3-4b7b-f305-3f4be75261a4"
      },
      "execution_count": 10,
      "outputs": [
        {
          "output_type": "stream",
          "name": "stdout",
          "text": [
            "\n",
            "Here is a list of the Python keywords.  Enter any keyword to get more help.\n",
            "\n",
            "False               class               from                or\n",
            "None                continue            global              pass\n",
            "True                def                 if                  raise\n",
            "and                 del                 import              return\n",
            "as                  elif                in                  try\n",
            "assert              else                is                  while\n",
            "async               except              lambda              with\n",
            "await               finally             nonlocal            yield\n",
            "break               for                 not                 \n",
            "\n"
          ]
        }
      ]
    },
    {
      "cell_type": "code",
      "source": [
        "print('we have been using print to show output')\n",
        "# print here is a function\n",
        "# a function in python is something that ends with ()"
      ],
      "metadata": {
        "colab": {
          "base_uri": "https://localhost:8080/"
        },
        "id": "4gx5JRvQYQ_6",
        "outputId": "75f9c513-f227-465d-e1cd-0ba8e6f8eb9e"
      },
      "execution_count": 11,
      "outputs": [
        {
          "output_type": "stream",
          "name": "stdout",
          "text": [
            "we have been using print to show output\n"
          ]
        }
      ]
    },
    {
      "cell_type": "code",
      "source": [
        "print(\"NO ERROR\")"
      ],
      "metadata": {
        "colab": {
          "base_uri": "https://localhost:8080/"
        },
        "id": "dhtD905bYUVZ",
        "outputId": "36376368-2475-4ce3-a55c-60e07781ed68"
      },
      "execution_count": 12,
      "outputs": [
        {
          "output_type": "stream",
          "name": "stdout",
          "text": [
            "NO ERROR\n"
          ]
        }
      ]
    },
    {
      "cell_type": "code",
      "source": [
        "# python data types\n",
        "print('str')\n",
        "print(\"Ronaldo\")\n",
        "print('Cristiano')\n",
        "print(\"!@#$%^&*()_+\")\n",
        "print(\"100.001\")\n",
        "# numbers\n",
        "print('int')\n",
        "print(1)\n",
        "print(-100)\n",
        "print('float')\n",
        "print(100.001)\n",
        "print(1.414)\n",
        "print(100.0)\n",
        "# bool\n",
        "print(True)\n",
        "print(False)"
      ],
      "metadata": {
        "colab": {
          "base_uri": "https://localhost:8080/"
        },
        "id": "_llGhSttY8ht",
        "outputId": "3649cff0-ab17-4c1b-e7c1-220fa57d4f28"
      },
      "execution_count": 19,
      "outputs": [
        {
          "output_type": "stream",
          "name": "stdout",
          "text": [
            "str\n",
            "Ronaldo\n",
            "Cristiano\n",
            "!@#$%^&*()_+\n",
            "100.001\n",
            "int\n",
            "1\n",
            "-100\n",
            "float\n",
            "100.001\n",
            "1.414\n",
            "100.0\n",
            "True\n",
            "False\n"
          ]
        }
      ]
    },
    {
      "cell_type": "code",
      "source": [
        "# age in years == int\n",
        "# bank bal  shoould be float\n",
        "# address >> str\n",
        "# criminal or not >> bool"
      ],
      "metadata": {
        "id": "6oAewLcwaJ7R"
      },
      "execution_count": 20,
      "outputs": []
    },
    {
      "cell_type": "code",
      "source": [
        "# expressions\n",
        "\n",
        "# x= 5\n",
        "# y=10\n",
        "# LHS = RHS"
      ],
      "metadata": {
        "id": "j3KEF493banK"
      },
      "execution_count": null,
      "outputs": []
    },
    {
      "cell_type": "code",
      "source": [
        "name = 'Ronaldo'\n",
        "print(name)\n",
        "age = 37\n",
        "print(age)\n",
        "height = 187.5\n",
        "print(height)\n",
        "isGreatPlayer = True\n",
        "print(isGreatPlayer)"
      ],
      "metadata": {
        "colab": {
          "base_uri": "https://localhost:8080/"
        },
        "id": "IW7997xdb4et",
        "outputId": "b5eada89-d06e-4931-c1c4-7d9f77b94cfb"
      },
      "execution_count": 24,
      "outputs": [
        {
          "output_type": "stream",
          "name": "stdout",
          "text": [
            "Ronaldo\n",
            "37\n",
            "187.5\n",
            "True\n"
          ]
        }
      ]
    },
    {
      "cell_type": "code",
      "source": [
        "# variable name cannot have spaces\n",
        "# varaible name cannot start with a number\n",
        "# varaible name cannot be a keyword\n",
        "# variable names can be of any length made up of a-z. A-Z. 0-9 and _"
      ],
      "metadata": {
        "id": "OIcbFiptb946"
      },
      "execution_count": null,
      "outputs": []
    },
    {
      "cell_type": "code",
      "source": [
        "varName = 10"
      ],
      "metadata": {
        "id": "8X-Qp-c9cjeq"
      },
      "execution_count": 27,
      "outputs": []
    },
    {
      "cell_type": "code",
      "source": [
        "print(type('Ronaldo'))"
      ],
      "metadata": {
        "colab": {
          "base_uri": "https://localhost:8080/"
        },
        "id": "y4BCtCrqdBwx",
        "outputId": "d21d3a48-d87c-4344-d594-426a571a3d47"
      },
      "execution_count": 28,
      "outputs": [
        {
          "output_type": "stream",
          "name": "stdout",
          "text": [
            "<class 'str'>\n"
          ]
        }
      ]
    },
    {
      "cell_type": "code",
      "source": [
        "name = 'Ronaldo'\n",
        "print(type('Ronaldo'))\n",
        "print(type(name))\n",
        "print(name)"
      ],
      "metadata": {
        "colab": {
          "base_uri": "https://localhost:8080/"
        },
        "id": "Gvtk812Kc0Nz",
        "outputId": "8462f283-a7ff-41de-d3ce-c87d7418c584"
      },
      "execution_count": 30,
      "outputs": [
        {
          "output_type": "stream",
          "name": "stdout",
          "text": [
            "<class 'str'>\n",
            "<class 'str'>\n",
            "Ronaldo\n"
          ]
        }
      ]
    },
    {
      "cell_type": "code",
      "source": [
        "age = 37\n",
        "print(type(age))\n",
        "print(age)\n"
      ],
      "metadata": {
        "colab": {
          "base_uri": "https://localhost:8080/"
        },
        "id": "wW2EbJLQdJ7s",
        "outputId": "6a26a609-3db7-45f8-d2c7-7b0d2f383dc3"
      },
      "execution_count": 31,
      "outputs": [
        {
          "output_type": "stream",
          "name": "stdout",
          "text": [
            "<class 'int'>\n",
            "37\n"
          ]
        }
      ]
    },
    {
      "cell_type": "code",
      "source": [
        "height = 187.5\n",
        "print(height)\n",
        "print(type(height))\n"
      ],
      "metadata": {
        "colab": {
          "base_uri": "https://localhost:8080/"
        },
        "id": "JRQOXL9pdaZ5",
        "outputId": "83370570-81ac-4266-a238-11408ba5dd9f"
      },
      "execution_count": 32,
      "outputs": [
        {
          "output_type": "stream",
          "name": "stdout",
          "text": [
            "187.5\n",
            "<class 'float'>\n"
          ]
        }
      ]
    },
    {
      "cell_type": "code",
      "source": [
        "isGreatPlayer = True\n",
        "print(isGreatPlayer)\n",
        "print(type(isGreatPlayer))"
      ],
      "metadata": {
        "colab": {
          "base_uri": "https://localhost:8080/"
        },
        "id": "IqS0nKQpddfi",
        "outputId": "8ecf9c00-7b57-4dd9-bdfd-0b1785fedc00"
      },
      "execution_count": 33,
      "outputs": [
        {
          "output_type": "stream",
          "name": "stdout",
          "text": [
            "True\n",
            "<class 'bool'>\n"
          ]
        }
      ]
    },
    {
      "cell_type": "code",
      "source": [
        "# input\n",
        "\n",
        "\n",
        "myNameIs = input('Enter your name: ')\n",
        "print('The user entered', myNameIs)"
      ],
      "metadata": {
        "colab": {
          "base_uri": "https://localhost:8080/"
        },
        "id": "slV4-PgzdieQ",
        "outputId": "a9b46383-8ba9-45fd-8402-6c63b6ece31d"
      },
      "execution_count": 34,
      "outputs": [
        {
          "output_type": "stream",
          "name": "stdout",
          "text": [
            "Enter your name: Ronaldo\n",
            "The user entered Ronaldo\n"
          ]
        }
      ]
    },
    {
      "cell_type": "code",
      "source": [
        "# python input function stores everything as a str"
      ],
      "metadata": {
        "id": "TTTDRbOve26K"
      },
      "execution_count": null,
      "outputs": []
    },
    {
      "cell_type": "code",
      "source": [
        "# get the age of the person and find how old they will be next year\n",
        "\n",
        "age = input('What is your age: ')\n",
        "print('the users age is ', age)\n",
        "print(type(age))\n",
        "next = int(age) + 1\n",
        "print('next uyear you will be ', next)"
      ],
      "metadata": {
        "colab": {
          "base_uri": "https://localhost:8080/"
        },
        "id": "5j-bRFj8eHiL",
        "outputId": "801fa43b-7ba0-49a6-a628-a907ed8eabf3"
      },
      "execution_count": 39,
      "outputs": [
        {
          "output_type": "stream",
          "name": "stdout",
          "text": [
            "What is your age: 25\n",
            "the users age is  25\n",
            "<class 'str'>\n",
            "next uyear you will be  26\n"
          ]
        }
      ]
    },
    {
      "cell_type": "code",
      "source": [
        "# take 2 numbers from the user as an input\n",
        "# print their average\n",
        "\n",
        "# 1 get 2 numbers from the user\n",
        "# 2 get the sum\n",
        "# 3 divide by 2\n",
        "\n",
        "first = int(input('Enter first number: '))\n",
        "second = int(input('Enter second number: '))\n",
        "print(first, second)\n",
        "\n",
        "sum = first + second\n",
        "print(sum)\n",
        "\n",
        "avg = sum/2\n",
        "print(avg)\n",
        "print(int(avg))"
      ],
      "metadata": {
        "colab": {
          "base_uri": "https://localhost:8080/"
        },
        "id": "L71FLx4heWTK",
        "outputId": "9f0ae411-8e71-42b6-9ecf-df359964c196"
      },
      "execution_count": 41,
      "outputs": [
        {
          "output_type": "stream",
          "name": "stdout",
          "text": [
            "Enter first number: 4\n",
            "Enter second number: 6\n",
            "4 6\n",
            "10\n",
            "5.0\n",
            "5\n"
          ]
        }
      ]
    },
    {
      "cell_type": "code",
      "source": [
        "# in python division always return float"
      ],
      "metadata": {
        "id": "-kr6WZORg9r1"
      },
      "execution_count": null,
      "outputs": []
    },
    {
      "cell_type": "code",
      "source": [
        "# Coding Exercise: \n",
        "# Write a python program to accept Principle (int), \n",
        "# Rate of interest  (float)\n",
        "# and Time  (int)\n",
        "# from the user and display the simple interest (this is an integer)\n",
        "# simple interest formula\n",
        "# si = (p*r*t)/100\n",
        "\n",
        "p = int(input('enter p: '))\n",
        "r = float(input('enter r: '))\n",
        "t = int(input('enter t: '))\n",
        "\n",
        "si = (p*r*t)/100\n",
        "si = int(si)\n",
        "\n",
        "print('you si is ',si)"
      ],
      "metadata": {
        "colab": {
          "base_uri": "https://localhost:8080/"
        },
        "id": "4N_Cx5xthEZw",
        "outputId": "9896846a-5665-4028-fd2c-08d1ff73c055"
      },
      "execution_count": 42,
      "outputs": [
        {
          "output_type": "stream",
          "name": "stdout",
          "text": [
            "enter p: 100\n",
            "enter r: 6.5\n",
            "enter t: 2\n",
            "you si is  13\n"
          ]
        }
      ]
    },
    {
      "cell_type": "code",
      "source": [
        "print(f'your simple interest is {si}')"
      ],
      "metadata": {
        "colab": {
          "base_uri": "https://localhost:8080/"
        },
        "id": "M9_3JfFYpfxo",
        "outputId": "e811853d-c694-4489-8cc1-c9a55f9e55df"
      },
      "execution_count": 47,
      "outputs": [
        {
          "output_type": "stream",
          "name": "stdout",
          "text": [
            "your simple interest is 13\n"
          ]
        }
      ]
    },
    {
      "cell_type": "code",
      "source": [
        "# conditionals\n",
        "\n",
        "# program that find if a number is +ive or not\n",
        "\n",
        "num = int(input('Enter a num: '))\n",
        "\n",
        "if num>0:\n",
        "    print('positive')\n",
        "else:\n",
        "    print('not positive')"
      ],
      "metadata": {
        "colab": {
          "base_uri": "https://localhost:8080/"
        },
        "id": "FwUq03ppp2iE",
        "outputId": "2e1824bf-404d-4095-8e26-b315006afd2f"
      },
      "execution_count": 49,
      "outputs": [
        {
          "output_type": "stream",
          "name": "stdout",
          "text": [
            "Enter a num: -5\n",
            "not positive\n"
          ]
        }
      ]
    },
    {
      "cell_type": "code",
      "source": [
        "# Coding Exercise: \n",
        "# Write code to ask the user their age and check if they can vote or not.\n",
        "# assume age >=18 to vote\n",
        "\n",
        "# 17 >> cannot vote\n",
        "# 18 >> can vote\n",
        "# 19 >> can vote\n",
        "\n",
        "age = int(input('Give your age: '))\n",
        "\n",
        "if age >=18:\n",
        "    print('can vote')\n",
        "else:\n",
        "    print('cannot vote')"
      ],
      "metadata": {
        "colab": {
          "base_uri": "https://localhost:8080/"
        },
        "id": "in7jv4smq_f_",
        "outputId": "50d065ad-8656-46d3-d7c4-765d2eac38d5"
      },
      "execution_count": 52,
      "outputs": [
        {
          "output_type": "stream",
          "name": "stdout",
          "text": [
            "Give your age: 19\n",
            "can vote\n"
          ]
        }
      ]
    },
    {
      "cell_type": "code",
      "source": [
        "# == is used to compare\n",
        "# = is used in expression to update/assign value of varaibles"
      ],
      "metadata": {
        "id": "MCXd6PamsyNr"
      },
      "execution_count": null,
      "outputs": []
    },
    {
      "cell_type": "code",
      "source": [
        "# condition/decision >> if else if\n",
        "# else if >> elif\n",
        "\n",
        "# get rank of the user\n",
        "# if the rank is 1, say you won\n",
        "# else if the rank is 2, say you are runner up\n",
        "# else if rank is 3, say your rank is low\n",
        "\n",
        "rank = int(input('User enter you rank: '))\n",
        "\n",
        "if rank == 1:\n",
        "    print('you won')\n",
        "elif rank == 2:\n",
        "    print('you are runner up')\n",
        "else:\n",
        "    print('your rank is low')"
      ],
      "metadata": {
        "colab": {
          "base_uri": "https://localhost:8080/"
        },
        "id": "op5EHNRvsPbo",
        "outputId": "e81b6e78-cc57-4c5d-d558-e0663e769042"
      },
      "execution_count": 55,
      "outputs": [
        {
          "output_type": "stream",
          "name": "stdout",
          "text": [
            "User enter you rank: 3\n",
            "your rank is low\n"
          ]
        }
      ]
    },
    {
      "cell_type": "code",
      "source": [
        "# Coding Exercise: \n",
        "# Write a program that accepts a number \n",
        "# and determines if it’s +ive, -ive, neutral (zero)\n",
        "\n",
        "num = int(input('Enter a num: '))\n",
        "\n",
        "if num>0:\n",
        "    print('+ive')\n",
        "elif num<0:\n",
        "    print('-ive')\n",
        "else:\n",
        "    print('neutral')"
      ],
      "metadata": {
        "colab": {
          "base_uri": "https://localhost:8080/"
        },
        "id": "NDRySokKtbEL",
        "outputId": "79116173-4660-474f-b868-848a2f7073a0"
      },
      "execution_count": 58,
      "outputs": [
        {
          "output_type": "stream",
          "name": "stdout",
          "text": [
            "Enter a num: -100\n",
            "-ive\n"
          ]
        }
      ]
    },
    {
      "cell_type": "code",
      "source": [
        "# loops\n",
        "## while\n",
        "## for"
      ],
      "metadata": {
        "id": "Qm07WzJuurXJ"
      },
      "execution_count": null,
      "outputs": []
    },
    {
      "cell_type": "code",
      "source": [
        "# loops\n",
        "## while\n",
        "\n",
        "meter = 1\n",
        "\n",
        "while meter<=5:\n",
        "    print(meter)\n",
        "    meter = meter + 1\n",
        "print('meter in memory is', meter)"
      ],
      "metadata": {
        "colab": {
          "base_uri": "https://localhost:8080/"
        },
        "id": "SnJpKA8mu930",
        "outputId": "b4ee29b3-39ac-4866-b3a0-c78e6636296d"
      },
      "execution_count": 61,
      "outputs": [
        {
          "output_type": "stream",
          "name": "stdout",
          "text": [
            "1\n",
            "2\n",
            "3\n",
            "4\n",
            "5\n",
            "meter in memory is 6\n"
          ]
        }
      ]
    },
    {
      "cell_type": "code",
      "source": [
        "# loops\n",
        "## for\n",
        "\n",
        "for item in ['milk', 'bread', 'cookies']:\n",
        "    print(item)"
      ],
      "metadata": {
        "colab": {
          "base_uri": "https://localhost:8080/"
        },
        "id": "dpFaAyJxwd9_",
        "outputId": "5068d186-3ceb-4315-ed7c-9e52b989b68d"
      },
      "execution_count": 62,
      "outputs": [
        {
          "output_type": "stream",
          "name": "stdout",
          "text": [
            "milk\n",
            "bread\n",
            "cookies\n"
          ]
        }
      ]
    },
    {
      "cell_type": "code",
      "source": [
        "# purchase milk everyday until we say no\n",
        "\n",
        "shouldIbuyMilk = 'yes'\n",
        "while shouldIbuyMilk=='yes':\n",
        "    print('you bjust bought milk')\n",
        "    shouldIbuyMilk = input('do you want to buy milk')"
      ],
      "metadata": {
        "colab": {
          "base_uri": "https://localhost:8080/"
        },
        "id": "mtBY6XfIxUlD",
        "outputId": "83a352c9-de71-4146-b3b7-bf445494827b"
      },
      "execution_count": 63,
      "outputs": [
        {
          "name": "stdout",
          "output_type": "stream",
          "text": [
            "you bjust bought milk\n",
            "do you want to buy milkyes\n",
            "you bjust bought milk\n",
            "do you want to buy milkyes\n",
            "you bjust bought milk\n",
            "do you want to buy milkyes\n",
            "you bjust bought milk\n",
            "do you want to buy milkyes\n",
            "you bjust bought milk\n",
            "do you want to buy milkno\n"
          ]
        }
      ]
    }
  ]
}